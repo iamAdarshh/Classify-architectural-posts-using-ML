{
 "cells": [
  {
   "cell_type": "code",
   "id": "initial_id",
   "metadata": {
    "collapsed": true,
    "ExecuteTime": {
     "end_time": "2024-06-24T12:34:18.806178Z",
     "start_time": "2024-06-24T12:34:17.720550Z"
    }
   },
   "source": [
    "import pandas as pd\n",
    "from sklearn.model_selection import train_test_split\n",
    "\n",
    "from src.config import DEFAULT_DATA_FOLDER"
   ],
   "outputs": [],
   "execution_count": 1
  },
  {
   "metadata": {
    "ExecuteTime": {
     "end_time": "2024-06-24T12:34:19.130462Z",
     "start_time": "2024-06-24T12:34:18.807279Z"
    }
   },
   "cell_type": "code",
   "source": [
    "file_path = f\"{DEFAULT_DATA_FOLDER}/output/combined_posts_results.xlsx\"\n",
    "data = pd.read_excel(file_path)"
   ],
   "id": "6f60ad18c1ca0611",
   "outputs": [],
   "execution_count": 2
  },
  {
   "metadata": {
    "ExecuteTime": {
     "end_time": "2024-06-24T12:34:19.133492Z",
     "start_time": "2024-06-24T12:34:19.131280Z"
    }
   },
   "cell_type": "code",
   "source": [
    "# Define the stratification columns\n",
    "stratify_columns = ['is_architectural', 'is_analysis', 'is_synthesis', 'is_evaluation']"
   ],
   "id": "a3b320eb66ec0a73",
   "outputs": [],
   "execution_count": 3
  },
  {
   "metadata": {
    "ExecuteTime": {
     "end_time": "2024-06-24T12:34:19.147580Z",
     "start_time": "2024-06-24T12:34:19.135634Z"
    }
   },
   "cell_type": "code",
   "source": [
    "# Ensure these columns are strings to treat them as categorical features for stratification\n",
    "stratify_values = data[stratify_columns].astype(str).apply(lambda x: '_'.join(x), axis=1)"
   ],
   "id": "cd241d735d36d9a6",
   "outputs": [],
   "execution_count": 4
  },
  {
   "metadata": {
    "ExecuteTime": {
     "end_time": "2024-06-24T12:34:19.155118Z",
     "start_time": "2024-06-24T12:34:19.148672Z"
    }
   },
   "cell_type": "code",
   "source": [
    "# Perform stratified sampling (20% of the dataset)\n",
    "train_data, stratified_sample = train_test_split(data, test_size=0.2, stratify=stratify_values, random_state=42)"
   ],
   "id": "4a43908951c6c24c",
   "outputs": [],
   "execution_count": 5
  },
  {
   "metadata": {
    "ExecuteTime": {
     "end_time": "2024-06-24T12:34:19.160005Z",
     "start_time": "2024-06-24T12:34:19.155986Z"
    }
   },
   "cell_type": "code",
   "source": "train_data.shape",
   "id": "d9a52ae30768577e",
   "outputs": [
    {
     "data": {
      "text/plain": [
       "(1904, 11)"
      ]
     },
     "execution_count": 6,
     "metadata": {},
     "output_type": "execute_result"
    }
   ],
   "execution_count": 6
  },
  {
   "metadata": {
    "ExecuteTime": {
     "end_time": "2024-06-24T12:34:19.164072Z",
     "start_time": "2024-06-24T12:34:19.161287Z"
    }
   },
   "cell_type": "code",
   "source": "stratified_sample.shape",
   "id": "f7a00694f097d364",
   "outputs": [
    {
     "data": {
      "text/plain": [
       "(476, 11)"
      ]
     },
     "execution_count": 7,
     "metadata": {},
     "output_type": "execute_result"
    }
   ],
   "execution_count": 7
  },
  {
   "metadata": {
    "ExecuteTime": {
     "end_time": "2024-06-24T12:34:19.169380Z",
     "start_time": "2024-06-24T12:34:19.165253Z"
    }
   },
   "cell_type": "code",
   "source": [
    "# Display the distribution of stratified columns in the sample\n",
    "sample_distribution = stratified_sample[stratify_columns].mean()\n",
    "print(\"\\nDistribution of stratified columns in the sample:\")\n",
    "print(sample_distribution)"
   ],
   "id": "43eb6955d3cbe904",
   "outputs": [
    {
     "name": "stdout",
     "output_type": "stream",
     "text": [
      "\n",
      "Distribution of stratified columns in the sample:\n",
      "is_architectural    0.319328\n",
      "is_analysis         0.031513\n",
      "is_synthesis        0.140756\n",
      "is_evaluation       0.147059\n",
      "dtype: float64\n"
     ]
    }
   ],
   "execution_count": 8
  },
  {
   "metadata": {
    "ExecuteTime": {
     "end_time": "2024-06-24T12:34:19.172437Z",
     "start_time": "2024-06-24T12:34:19.170774Z"
    }
   },
   "cell_type": "code",
   "source": "",
   "id": "d8b4f03eddefcb46",
   "outputs": [],
   "execution_count": 8
  }
 ],
 "metadata": {
  "kernelspec": {
   "display_name": "Python 3",
   "language": "python",
   "name": "python3"
  },
  "language_info": {
   "codemirror_mode": {
    "name": "ipython",
    "version": 2
   },
   "file_extension": ".py",
   "mimetype": "text/x-python",
   "name": "python",
   "nbconvert_exporter": "python",
   "pygments_lexer": "ipython2",
   "version": "2.7.6"
  }
 },
 "nbformat": 4,
 "nbformat_minor": 5
}
