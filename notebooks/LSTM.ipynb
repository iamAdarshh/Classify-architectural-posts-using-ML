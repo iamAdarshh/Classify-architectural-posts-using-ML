{
 "cells": [
  {
   "cell_type": "code",
   "id": "initial_id",
   "metadata": {
    "collapsed": true,
    "ExecuteTime": {
     "end_time": "2024-07-01T13:08:07.719387Z",
     "start_time": "2024-07-01T13:08:07.715291Z"
    }
   },
   "source": [
    "from src.config import DEFAULT_DATA_FOLDER\n",
    "from src.models.lstm.utils import determine_labels\n",
    "from src.data.utils import save_as_excel\n",
    "\n",
    "import numpy as np\n",
    "import pandas as pd\n",
    "from sklearn.model_selection import StratifiedKFold\n",
    "from sklearn.preprocessing import LabelEncoder\n",
    "from tensorflow.keras.preprocessing.text import Tokenizer\n",
    "from tensorflow.keras.preprocessing.sequence import pad_sequences\n",
    "from tensorflow.keras.models import Sequential\n",
    "from tensorflow.keras.layers import Embedding, LSTM, Dense, SpatialDropout1D, Bidirectional\n",
    "from tensorflow.keras.optimizers import Adam\n",
    "from tensorflow.keras.utils import to_categorical\n",
    "from tensorflow.keras.callbacks import EarlyStopping\n",
    "from gensim.models import KeyedVectors\n",
    "from tensorflow.keras.initializers import Constant\n",
    "from sklearn.metrics import precision_score, recall_score, f1_score, confusion_matrix\n",
    "\n",
    "import matplotlib.pyplot as plt"
   ],
   "outputs": [],
   "execution_count": 12
  },
  {
   "metadata": {
    "ExecuteTime": {
     "end_time": "2024-07-01T12:28:21.134699Z",
     "start_time": "2024-07-01T12:28:14.179610Z"
    }
   },
   "cell_type": "code",
   "source": [
    "# load datasets\n",
    "# Load the dataset\n",
    "DATASET_PATH = f\"{DEFAULT_DATA_FOLDER}/output/combined_posts_results.xlsx\"\n",
    "dataset = pd.read_excel(DATASET_PATH)\n",
    "\n",
    "# Load pre-trained Word2Vec embeddings\n",
    "word2vec_path = f'{DEFAULT_DATA_FOLDER}/word-embedding/SO_vectors_200.bin'\n",
    "word2vec_model = KeyedVectors.load_word2vec_format(word2vec_path,binary=True)"
   ],
   "id": "2171cf672e74037",
   "outputs": [],
   "execution_count": 2
  },
  {
   "metadata": {
    "ExecuteTime": {
     "end_time": "2024-07-01T12:28:21.153827Z",
     "start_time": "2024-07-01T12:28:21.135591Z"
    }
   },
   "cell_type": "code",
   "source": [
    "# Prepare the dataset\n",
    "dataset['category'] = dataset.apply(determine_labels, axis=1)\n",
    "dataset['clean_text'] = dataset['clean_text'].fillna('').astype(str)"
   ],
   "id": "2b66636ae2edb081",
   "outputs": [],
   "execution_count": 3
  },
  {
   "metadata": {
    "ExecuteTime": {
     "end_time": "2024-07-01T12:28:21.158077Z",
     "start_time": "2024-07-01T12:28:21.155332Z"
    }
   },
   "cell_type": "code",
   "source": [
    "label_encoder = LabelEncoder()\n",
    "dataset['category'] = label_encoder.fit_transform(dataset['category'])\n",
    "num_classes = len(label_encoder.classes_)"
   ],
   "id": "3d4cfe660e0066f2",
   "outputs": [],
   "execution_count": 4
  },
  {
   "metadata": {
    "ExecuteTime": {
     "end_time": "2024-07-01T12:28:21.453941Z",
     "start_time": "2024-07-01T12:28:21.158928Z"
    }
   },
   "cell_type": "code",
   "source": [
    "# Tokenize and pad sequences\n",
    "max_num_words = dataset['clean_text'].str.len().max()\n",
    "max_sequence_length = 250\n",
    "tokenizer = Tokenizer(num_words=max_num_words)\n",
    "tokenizer.fit_on_texts(dataset['clean_text'])\n",
    "word_index = tokenizer.word_index\n",
    "sequences = tokenizer.texts_to_sequences(dataset['clean_text'])\n",
    "padded_sequences = pad_sequences(sequences, maxlen=max_sequence_length)\n",
    "labels_categorical = to_categorical(dataset['category'], num_classes=num_classes)"
   ],
   "id": "4506052082ae57e1",
   "outputs": [],
   "execution_count": 5
  },
  {
   "metadata": {
    "ExecuteTime": {
     "end_time": "2024-07-01T12:28:21.456874Z",
     "start_time": "2024-07-01T12:28:21.454764Z"
    }
   },
   "cell_type": "code",
   "source": [
    "# hyper-parameters: these are calculated using optimize parameters notebook\n",
    "embedding_dim = 200\n",
    "lstm_units = 100\n",
    "dropout_rate = 0.2\n",
    "batch_size = 16\n",
    "epochs = 20"
   ],
   "id": "879a9fd3e3ff5422",
   "outputs": [],
   "execution_count": 6
  },
  {
   "metadata": {
    "ExecuteTime": {
     "end_time": "2024-07-01T12:28:21.459725Z",
     "start_time": "2024-07-01T12:28:21.457656Z"
    }
   },
   "cell_type": "code",
   "source": [
    "kf = StratifiedKFold(n_splits=10, shuffle=True, random_state=42)\n",
    "fold_no = 1"
   ],
   "id": "62457c5a0ae9768d",
   "outputs": [],
   "execution_count": 7
  },
  {
   "metadata": {
    "ExecuteTime": {
     "end_time": "2024-07-01T12:56:47.798389Z",
     "start_time": "2024-07-01T12:28:21.460632Z"
    }
   },
   "cell_type": "code",
   "source": [
    "fold_accuracies = []\n",
    "fold_precisions = []\n",
    "fold_recalls = []\n",
    "fold_f1_scores = []\n",
    "\n",
    "# To store the results\n",
    "results = []\n",
    "\n",
    "for train_index, test_index in kf.split(padded_sequences, dataset['category']):\n",
    "    print(f'Training on fold {fold_no} with params: embedding_dim={embedding_dim}, lstm_units={lstm_units}, dropout_rate={dropout_rate}, batch_size={batch_size}')\n",
    "\n",
    "    X_train, X_test = padded_sequences[train_index], padded_sequences[test_index]\n",
    "    y_train, y_test = labels_categorical[train_index], labels_categorical[test_index]\n",
    "\n",
    "    # Build the LSTM model with pre-trained embeddings\n",
    "    embedding_matrix = np.zeros((len(word_index) + 1, embedding_dim))\n",
    "    for word, i in word_index.items():\n",
    "        if word in word2vec_model:\n",
    "            embedding_matrix[i] = word2vec_model[word]\n",
    "\n",
    "    model = Sequential()\n",
    "    model.add(Embedding(input_dim=len(word_index) + 1, output_dim=embedding_dim,\n",
    "                        embeddings_initializer=Constant(embedding_matrix),\n",
    "                        trainable=False))\n",
    "    model.add(SpatialDropout1D(dropout_rate))\n",
    "    model.add(Bidirectional(LSTM(lstm_units, dropout=dropout_rate, recurrent_dropout=dropout_rate)))\n",
    "    model.add(Dense(num_classes, activation='softmax'))\n",
    "\n",
    "    model.compile(loss='categorical_crossentropy', optimizer=Adam(learning_rate=0.001), metrics=['accuracy'])\n",
    "\n",
    "    early_stopping = EarlyStopping(monitor='val_loss', patience=3, mode='min', restore_best_weights=True)\n",
    "\n",
    "    history = model.fit(X_train, y_train, epochs=epochs, batch_size=batch_size, validation_split=0.1,\n",
    "                        callbacks=[early_stopping], verbose=2)\n",
    "\n",
    "    # Evaluate the model\n",
    "    y_pred = model.predict(X_test, verbose=2)\n",
    "    y_pred_classes = np.argmax(y_pred, axis=1)\n",
    "    y_true = np.argmax(y_test, axis=1)\n",
    "\n",
    "    accuracy = np.mean(y_pred_classes == y_true)\n",
    "    precision = precision_score(y_true, y_pred_classes, average='weighted')\n",
    "    recall = recall_score(y_true, y_pred_classes, average='weighted')\n",
    "    f1 = f1_score(y_true, y_pred_classes, average='weighted')\n",
    "\n",
    "    print(f'Test Accuracy for fold {fold_no}: {accuracy}')\n",
    "    print(f'Test Precision for fold {fold_no}: {precision}')\n",
    "    print(f'Test Recall for fold {fold_no}: {recall}')\n",
    "    print(f'Test F1 Score for fold {fold_no}: {f1}')\n",
    "\n",
    "    fold_accuracies.append(accuracy)\n",
    "    fold_precisions.append(precision)\n",
    "    fold_recalls.append(recall)\n",
    "    fold_f1_scores.append(f1)\n",
    "\n",
    "    # Store the results\n",
    "    fold_results = pd.DataFrame({\n",
    "        'fold': fold_no,\n",
    "        'true': y_true,\n",
    "        'predicted': y_pred_classes\n",
    "    })\n",
    "    results.append(fold_results)\n",
    "\n",
    "    fold_no += 1\n",
    "    \n",
    "    save_as_excel(fold_results, f\"{DEFAULT_DATA_FOLDER}/validation_results/fold{fold_no}.xlsx\")\n",
    "    \n",
    "print(\"Fold accuracies: \", fold_accuracies)\n",
    "print(\"Fold precisions: \", fold_precisions)\n",
    "print(\"Fold recalls: \", fold_recalls)\n",
    "print(\"Fold f1 scores: \", fold_f1_scores)"
   ],
   "id": "369167f79b49f42",
   "outputs": [
    {
     "name": "stdout",
     "output_type": "stream",
     "text": [
      "Training on fold 1 with params: embedding_dim=200, lstm_units=100, dropout_rate=0.2, batch_size=16\n",
      "Epoch 1/20\n",
      "121/121 - 21s - 171ms/step - accuracy: 0.6341 - loss: 0.9632 - val_accuracy: 0.9628 - val_loss: 0.2101\n",
      "Epoch 2/20\n",
      "121/121 - 24s - 200ms/step - accuracy: 0.7084 - loss: 0.7500 - val_accuracy: 0.9116 - val_loss: 0.2747\n",
      "Epoch 3/20\n",
      "121/121 - 29s - 241ms/step - accuracy: 0.7447 - loss: 0.6532 - val_accuracy: 0.9070 - val_loss: 0.2502\n",
      "Epoch 4/20\n",
      "121/121 - 29s - 237ms/step - accuracy: 0.7815 - loss: 0.5609 - val_accuracy: 0.9070 - val_loss: 0.1970\n",
      "Epoch 5/20\n",
      "121/121 - 23s - 187ms/step - accuracy: 0.8199 - loss: 0.4873 - val_accuracy: 0.9395 - val_loss: 0.1455\n",
      "Epoch 6/20\n",
      "121/121 - 26s - 215ms/step - accuracy: 0.8350 - loss: 0.4594 - val_accuracy: 0.8930 - val_loss: 0.2506\n",
      "Epoch 7/20\n",
      "121/121 - 27s - 226ms/step - accuracy: 0.8625 - loss: 0.3929 - val_accuracy: 0.9163 - val_loss: 0.2161\n",
      "Epoch 8/20\n",
      "121/121 - 27s - 222ms/step - accuracy: 0.8739 - loss: 0.3554 - val_accuracy: 0.9535 - val_loss: 0.1299\n",
      "Epoch 9/20\n",
      "121/121 - 28s - 235ms/step - accuracy: 0.8879 - loss: 0.3125 - val_accuracy: 0.9349 - val_loss: 0.1391\n",
      "Epoch 10/20\n",
      "121/121 - 28s - 231ms/step - accuracy: 0.9081 - loss: 0.2661 - val_accuracy: 0.9581 - val_loss: 0.1162\n",
      "Epoch 11/20\n",
      "121/121 - 28s - 235ms/step - accuracy: 0.9242 - loss: 0.2445 - val_accuracy: 0.8930 - val_loss: 0.2470\n",
      "Epoch 12/20\n",
      "121/121 - 26s - 216ms/step - accuracy: 0.9362 - loss: 0.2106 - val_accuracy: 0.9163 - val_loss: 0.1953\n",
      "Epoch 13/20\n",
      "121/121 - 29s - 237ms/step - accuracy: 0.9331 - loss: 0.1983 - val_accuracy: 0.9674 - val_loss: 0.0814\n",
      "Epoch 14/20\n",
      "121/121 - 27s - 219ms/step - accuracy: 0.9414 - loss: 0.1733 - val_accuracy: 0.9581 - val_loss: 0.1131\n",
      "Epoch 15/20\n",
      "121/121 - 26s - 217ms/step - accuracy: 0.9559 - loss: 0.1559 - val_accuracy: 0.9395 - val_loss: 0.1595\n",
      "Epoch 16/20\n",
      "121/121 - 28s - 230ms/step - accuracy: 0.9600 - loss: 0.1375 - val_accuracy: 0.9395 - val_loss: 0.1993\n",
      "8/8 - 1s - 105ms/step\n",
      "Test Accuracy for fold 1: 0.7352941176470589\n",
      "Test Precision for fold 1: 0.7111998879248094\n",
      "Test Recall for fold 1: 0.7352941176470589\n",
      "Test F1 Score for fold 1: 0.7224118417479388\n",
      "Training on fold 2 with params: embedding_dim=200, lstm_units=100, dropout_rate=0.2, batch_size=16\n",
      "Epoch 1/20\n",
      "121/121 - 17s - 141ms/step - accuracy: 0.6191 - loss: 0.9553 - val_accuracy: 0.9395 - val_loss: 0.1951\n",
      "Epoch 2/20\n",
      "121/121 - 18s - 151ms/step - accuracy: 0.7302 - loss: 0.7016 - val_accuracy: 0.9442 - val_loss: 0.1900\n",
      "Epoch 3/20\n",
      "121/121 - 20s - 163ms/step - accuracy: 0.7556 - loss: 0.6178 - val_accuracy: 0.9535 - val_loss: 0.1518\n",
      "Epoch 4/20\n",
      "121/121 - 22s - 182ms/step - accuracy: 0.7872 - loss: 0.5612 - val_accuracy: 0.9209 - val_loss: 0.2522\n",
      "Epoch 5/20\n",
      "121/121 - 22s - 180ms/step - accuracy: 0.8116 - loss: 0.5003 - val_accuracy: 0.9535 - val_loss: 0.1257\n",
      "Epoch 6/20\n",
      "121/121 - 22s - 180ms/step - accuracy: 0.8376 - loss: 0.4503 - val_accuracy: 0.9581 - val_loss: 0.1627\n",
      "Epoch 7/20\n",
      "121/121 - 23s - 190ms/step - accuracy: 0.8583 - loss: 0.3977 - val_accuracy: 0.9256 - val_loss: 0.2404\n",
      "Epoch 8/20\n",
      "121/121 - 21s - 172ms/step - accuracy: 0.8692 - loss: 0.3707 - val_accuracy: 0.9395 - val_loss: 0.1731\n",
      "8/8 - 1s - 96ms/step\n",
      "Test Accuracy for fold 2: 0.7605042016806722\n",
      "Test Precision for fold 2: 0.7294455572926846\n",
      "Test Recall for fold 2: 0.7605042016806722\n",
      "Test F1 Score for fold 2: 0.7377460980700161\n",
      "Training on fold 3 with params: embedding_dim=200, lstm_units=100, dropout_rate=0.2, batch_size=16\n",
      "Epoch 1/20\n"
     ]
    },
    {
     "name": "stderr",
     "output_type": "stream",
     "text": [
      "/Users/adarshchoudhary/Documents/University of Paderborn/Data Science of Software Engineering/Assignments/Assignment 3/code/.env/lib/python3.11/site-packages/sklearn/metrics/_classification.py:1469: UndefinedMetricWarning: Precision is ill-defined and being set to 0.0 in labels with no predicted samples. Use `zero_division` parameter to control this behavior.\n",
      "  _warn_prf(average, modifier, msg_start, len(result))\n"
     ]
    },
    {
     "name": "stdout",
     "output_type": "stream",
     "text": [
      "121/121 - 22s - 186ms/step - accuracy: 0.6367 - loss: 0.9526 - val_accuracy: 0.9767 - val_loss: 0.1850\n",
      "Epoch 2/20\n",
      "121/121 - 22s - 183ms/step - accuracy: 0.7182 - loss: 0.7213 - val_accuracy: 0.9814 - val_loss: 0.1738\n",
      "Epoch 3/20\n",
      "121/121 - 23s - 193ms/step - accuracy: 0.7483 - loss: 0.6476 - val_accuracy: 0.9628 - val_loss: 0.1502\n",
      "Epoch 4/20\n",
      "121/121 - 22s - 178ms/step - accuracy: 0.7800 - loss: 0.5676 - val_accuracy: 0.9674 - val_loss: 0.1417\n",
      "Epoch 5/20\n",
      "121/121 - 20s - 164ms/step - accuracy: 0.8044 - loss: 0.5108 - val_accuracy: 0.8558 - val_loss: 0.3644\n",
      "Epoch 6/20\n",
      "121/121 - 20s - 166ms/step - accuracy: 0.8251 - loss: 0.4600 - val_accuracy: 0.9535 - val_loss: 0.1334\n",
      "Epoch 7/20\n",
      "121/121 - 21s - 170ms/step - accuracy: 0.8635 - loss: 0.3896 - val_accuracy: 0.9302 - val_loss: 0.2026\n",
      "Epoch 8/20\n",
      "121/121 - 21s - 176ms/step - accuracy: 0.8718 - loss: 0.3619 - val_accuracy: 0.9535 - val_loss: 0.1333\n",
      "Epoch 9/20\n",
      "121/121 - 23s - 192ms/step - accuracy: 0.8936 - loss: 0.3139 - val_accuracy: 0.9209 - val_loss: 0.1960\n",
      "Epoch 10/20\n",
      "121/121 - 25s - 208ms/step - accuracy: 0.8983 - loss: 0.2850 - val_accuracy: 0.9209 - val_loss: 0.2016\n",
      "Epoch 11/20\n",
      "121/121 - 24s - 195ms/step - accuracy: 0.9165 - loss: 0.2511 - val_accuracy: 0.9163 - val_loss: 0.2436\n",
      "WARNING:tensorflow:5 out of the last 17 calls to <function TensorFlowTrainer.make_predict_function.<locals>.one_step_on_data_distributed at 0x3220c4d60> triggered tf.function retracing. Tracing is expensive and the excessive number of tracings could be due to (1) creating @tf.function repeatedly in a loop, (2) passing tensors with different shapes, (3) passing Python objects instead of tensors. For (1), please define your @tf.function outside of the loop. For (2), @tf.function has reduce_retracing=True option that can avoid unnecessary retracing. For (3), please refer to https://www.tensorflow.org/guide/function#controlling_retracing and https://www.tensorflow.org/api_docs/python/tf/function for  more details.\n",
      "8/8 - 1s - 92ms/step\n",
      "Test Accuracy for fold 3: 0.7647058823529411\n",
      "Test Precision for fold 3: 0.7682123873414948\n",
      "Test Recall for fold 3: 0.7647058823529411\n",
      "Test F1 Score for fold 3: 0.7604837056773929\n",
      "Training on fold 4 with params: embedding_dim=200, lstm_units=100, dropout_rate=0.2, batch_size=16\n",
      "Epoch 1/20\n",
      "121/121 - 28s - 229ms/step - accuracy: 0.6279 - loss: 0.9826 - val_accuracy: 0.9674 - val_loss: 0.2357\n",
      "Epoch 2/20\n",
      "121/121 - 23s - 190ms/step - accuracy: 0.7052 - loss: 0.7514 - val_accuracy: 0.9581 - val_loss: 0.1564\n",
      "Epoch 3/20\n",
      "121/121 - 24s - 202ms/step - accuracy: 0.7597 - loss: 0.6361 - val_accuracy: 0.9488 - val_loss: 0.1518\n",
      "Epoch 4/20\n",
      "121/121 - 25s - 210ms/step - accuracy: 0.7820 - loss: 0.5753 - val_accuracy: 0.9442 - val_loss: 0.1698\n",
      "Epoch 5/20\n",
      "121/121 - 25s - 205ms/step - accuracy: 0.8163 - loss: 0.5031 - val_accuracy: 0.9023 - val_loss: 0.2516\n",
      "Epoch 6/20\n",
      "121/121 - 25s - 203ms/step - accuracy: 0.8308 - loss: 0.4584 - val_accuracy: 0.9256 - val_loss: 0.2223\n",
      "WARNING:tensorflow:5 out of the last 17 calls to <function TensorFlowTrainer.make_predict_function.<locals>.one_step_on_data_distributed at 0x3ee37a700> triggered tf.function retracing. Tracing is expensive and the excessive number of tracings could be due to (1) creating @tf.function repeatedly in a loop, (2) passing tensors with different shapes, (3) passing Python objects instead of tensors. For (1), please define your @tf.function outside of the loop. For (2), @tf.function has reduce_retracing=True option that can avoid unnecessary retracing. For (3), please refer to https://www.tensorflow.org/guide/function#controlling_retracing and https://www.tensorflow.org/api_docs/python/tf/function for  more details.\n",
      "8/8 - 1s - 104ms/step\n",
      "Test Accuracy for fold 4: 0.7226890756302521\n",
      "Test Precision for fold 4: 0.6840558763454918\n",
      "Test Recall for fold 4: 0.7226890756302521\n",
      "Test F1 Score for fold 4: 0.7007234472736463\n",
      "Training on fold 5 with params: embedding_dim=200, lstm_units=100, dropout_rate=0.2, batch_size=16\n",
      "Epoch 1/20\n",
      "121/121 - 20s - 163ms/step - accuracy: 0.6217 - loss: 0.9949 - val_accuracy: 0.9674 - val_loss: 0.2222\n",
      "Epoch 2/20\n",
      "121/121 - 16s - 136ms/step - accuracy: 0.7089 - loss: 0.7398 - val_accuracy: 0.9442 - val_loss: 0.1685\n",
      "Epoch 3/20\n",
      "121/121 - 17s - 139ms/step - accuracy: 0.7488 - loss: 0.6427 - val_accuracy: 0.9674 - val_loss: 0.0981\n",
      "Epoch 4/20\n",
      "121/121 - 17s - 141ms/step - accuracy: 0.7815 - loss: 0.5737 - val_accuracy: 0.9349 - val_loss: 0.2125\n",
      "Epoch 5/20\n",
      "121/121 - 17s - 142ms/step - accuracy: 0.8116 - loss: 0.5122 - val_accuracy: 0.9256 - val_loss: 0.1893\n",
      "Epoch 6/20\n",
      "121/121 - 17s - 138ms/step - accuracy: 0.8319 - loss: 0.4535 - val_accuracy: 0.9349 - val_loss: 0.2155\n",
      "8/8 - 1s - 80ms/step\n",
      "Test Accuracy for fold 5: 0.7310924369747899\n",
      "Test Precision for fold 5: 0.668736209567626\n",
      "Test Recall for fold 5: 0.7310924369747899\n",
      "Test F1 Score for fold 5: 0.6822383426797688\n",
      "Training on fold 6 with params: embedding_dim=200, lstm_units=100, dropout_rate=0.2, batch_size=16\n",
      "Epoch 1/20\n"
     ]
    },
    {
     "name": "stderr",
     "output_type": "stream",
     "text": [
      "/Users/adarshchoudhary/Documents/University of Paderborn/Data Science of Software Engineering/Assignments/Assignment 3/code/.env/lib/python3.11/site-packages/sklearn/metrics/_classification.py:1469: UndefinedMetricWarning: Precision is ill-defined and being set to 0.0 in labels with no predicted samples. Use `zero_division` parameter to control this behavior.\n",
      "  _warn_prf(average, modifier, msg_start, len(result))\n"
     ]
    },
    {
     "name": "stdout",
     "output_type": "stream",
     "text": [
      "121/121 - 16s - 136ms/step - accuracy: 0.6352 - loss: 0.9422 - val_accuracy: 0.9070 - val_loss: 0.3001\n",
      "Epoch 2/20\n",
      "121/121 - 18s - 148ms/step - accuracy: 0.7042 - loss: 0.7377 - val_accuracy: 0.9209 - val_loss: 0.2378\n",
      "Epoch 3/20\n",
      "121/121 - 24s - 196ms/step - accuracy: 0.7545 - loss: 0.6355 - val_accuracy: 0.9302 - val_loss: 0.1514\n",
      "Epoch 4/20\n",
      "121/121 - 22s - 180ms/step - accuracy: 0.7701 - loss: 0.5870 - val_accuracy: 0.9674 - val_loss: 0.1461\n",
      "Epoch 5/20\n",
      "121/121 - 21s - 174ms/step - accuracy: 0.8106 - loss: 0.5140 - val_accuracy: 0.9209 - val_loss: 0.1862\n",
      "Epoch 6/20\n",
      "121/121 - 22s - 182ms/step - accuracy: 0.8443 - loss: 0.4619 - val_accuracy: 0.9116 - val_loss: 0.2258\n",
      "Epoch 7/20\n",
      "121/121 - 19s - 160ms/step - accuracy: 0.8485 - loss: 0.4126 - val_accuracy: 0.9302 - val_loss: 0.1708\n",
      "8/8 - 1s - 82ms/step\n",
      "Test Accuracy for fold 6: 0.7352941176470589\n",
      "Test Precision for fold 6: 0.6820352264327892\n",
      "Test Recall for fold 6: 0.7352941176470589\n",
      "Test F1 Score for fold 6: 0.702905188771838\n",
      "Training on fold 7 with params: embedding_dim=200, lstm_units=100, dropout_rate=0.2, batch_size=16\n",
      "Epoch 1/20\n",
      "121/121 - 17s - 141ms/step - accuracy: 0.6435 - loss: 0.9687 - val_accuracy: 0.9628 - val_loss: 0.2802\n",
      "Epoch 2/20\n",
      "121/121 - 21s - 169ms/step - accuracy: 0.7161 - loss: 0.7369 - val_accuracy: 0.9628 - val_loss: 0.1432\n",
      "Epoch 3/20\n",
      "121/121 - 18s - 150ms/step - accuracy: 0.7540 - loss: 0.6315 - val_accuracy: 0.9581 - val_loss: 0.1972\n",
      "Epoch 4/20\n",
      "121/121 - 18s - 145ms/step - accuracy: 0.7883 - loss: 0.5623 - val_accuracy: 0.9070 - val_loss: 0.2855\n",
      "Epoch 5/20\n",
      "121/121 - 18s - 148ms/step - accuracy: 0.7919 - loss: 0.5215 - val_accuracy: 0.9442 - val_loss: 0.1658\n",
      "8/8 - 1s - 85ms/step\n",
      "Test Accuracy for fold 7: 0.7310924369747899\n",
      "Test Precision for fold 7: 0.671028804320419\n",
      "Test Recall for fold 7: 0.7310924369747899\n",
      "Test F1 Score for fold 7: 0.6953276279420756\n",
      "Training on fold 8 with params: embedding_dim=200, lstm_units=100, dropout_rate=0.2, batch_size=16\n",
      "Epoch 1/20\n"
     ]
    },
    {
     "name": "stderr",
     "output_type": "stream",
     "text": [
      "/Users/adarshchoudhary/Documents/University of Paderborn/Data Science of Software Engineering/Assignments/Assignment 3/code/.env/lib/python3.11/site-packages/sklearn/metrics/_classification.py:1469: UndefinedMetricWarning: Precision is ill-defined and being set to 0.0 in labels with no predicted samples. Use `zero_division` parameter to control this behavior.\n",
      "  _warn_prf(average, modifier, msg_start, len(result))\n"
     ]
    },
    {
     "name": "stdout",
     "output_type": "stream",
     "text": [
      "121/121 - 17s - 142ms/step - accuracy: 0.6175 - loss: 0.9921 - val_accuracy: 0.9628 - val_loss: 0.2803\n",
      "Epoch 2/20\n",
      "121/121 - 18s - 149ms/step - accuracy: 0.7037 - loss: 0.7472 - val_accuracy: 0.9674 - val_loss: 0.1408\n",
      "Epoch 3/20\n",
      "121/121 - 19s - 159ms/step - accuracy: 0.7509 - loss: 0.6354 - val_accuracy: 0.9860 - val_loss: 0.0910\n",
      "Epoch 4/20\n",
      "121/121 - 21s - 173ms/step - accuracy: 0.7857 - loss: 0.5689 - val_accuracy: 0.9628 - val_loss: 0.1550\n",
      "Epoch 5/20\n",
      "121/121 - 20s - 165ms/step - accuracy: 0.7961 - loss: 0.5349 - val_accuracy: 0.9535 - val_loss: 0.1511\n",
      "Epoch 6/20\n",
      "121/121 - 20s - 168ms/step - accuracy: 0.8287 - loss: 0.4753 - val_accuracy: 0.9581 - val_loss: 0.1329\n",
      "8/8 - 1s - 88ms/step\n",
      "Test Accuracy for fold 8: 0.7436974789915967\n",
      "Test Precision for fold 8: 0.6903341981954072\n",
      "Test Recall for fold 8: 0.7436974789915967\n",
      "Test F1 Score for fold 8: 0.7115530890246787\n",
      "Training on fold 9 with params: embedding_dim=200, lstm_units=100, dropout_rate=0.2, batch_size=16\n",
      "Epoch 1/20\n"
     ]
    },
    {
     "name": "stderr",
     "output_type": "stream",
     "text": [
      "/Users/adarshchoudhary/Documents/University of Paderborn/Data Science of Software Engineering/Assignments/Assignment 3/code/.env/lib/python3.11/site-packages/sklearn/metrics/_classification.py:1469: UndefinedMetricWarning: Precision is ill-defined and being set to 0.0 in labels with no predicted samples. Use `zero_division` parameter to control this behavior.\n",
      "  _warn_prf(average, modifier, msg_start, len(result))\n"
     ]
    },
    {
     "name": "stdout",
     "output_type": "stream",
     "text": [
      "121/121 - 22s - 181ms/step - accuracy: 0.6393 - loss: 0.9620 - val_accuracy: 0.9488 - val_loss: 0.1995\n",
      "Epoch 2/20\n",
      "121/121 - 19s - 154ms/step - accuracy: 0.7172 - loss: 0.7122 - val_accuracy: 0.9581 - val_loss: 0.1393\n",
      "Epoch 3/20\n",
      "121/121 - 23s - 189ms/step - accuracy: 0.7488 - loss: 0.6269 - val_accuracy: 0.9721 - val_loss: 0.1010\n",
      "Epoch 4/20\n",
      "121/121 - 21s - 176ms/step - accuracy: 0.7898 - loss: 0.5474 - val_accuracy: 0.9395 - val_loss: 0.1592\n",
      "Epoch 5/20\n",
      "121/121 - 23s - 194ms/step - accuracy: 0.8220 - loss: 0.4977 - val_accuracy: 0.9535 - val_loss: 0.1771\n",
      "Epoch 6/20\n",
      "121/121 - 19s - 159ms/step - accuracy: 0.8303 - loss: 0.4510 - val_accuracy: 0.9581 - val_loss: 0.1298\n",
      "8/8 - 1s - 82ms/step\n",
      "Test Accuracy for fold 9: 0.7310924369747899\n",
      "Test Precision for fold 9: 0.6921008403361346\n",
      "Test Recall for fold 9: 0.7310924369747899\n",
      "Test F1 Score for fold 9: 0.7000608095988577\n",
      "Training on fold 10 with params: embedding_dim=200, lstm_units=100, dropout_rate=0.2, batch_size=16\n",
      "Epoch 1/20\n",
      "121/121 - 17s - 140ms/step - accuracy: 0.6269 - loss: 0.9726 - val_accuracy: 0.9814 - val_loss: 0.1936\n",
      "Epoch 2/20\n",
      "121/121 - 17s - 140ms/step - accuracy: 0.7187 - loss: 0.7220 - val_accuracy: 0.9535 - val_loss: 0.2354\n",
      "Epoch 3/20\n",
      "121/121 - 17s - 137ms/step - accuracy: 0.7442 - loss: 0.6629 - val_accuracy: 0.9256 - val_loss: 0.1977\n",
      "Epoch 4/20\n",
      "121/121 - 17s - 138ms/step - accuracy: 0.7665 - loss: 0.5922 - val_accuracy: 0.9581 - val_loss: 0.1204\n",
      "Epoch 5/20\n",
      "121/121 - 18s - 146ms/step - accuracy: 0.8121 - loss: 0.5269 - val_accuracy: 0.9721 - val_loss: 0.1034\n",
      "Epoch 6/20\n",
      "121/121 - 16s - 136ms/step - accuracy: 0.8262 - loss: 0.4690 - val_accuracy: 0.9581 - val_loss: 0.1195\n",
      "Epoch 7/20\n",
      "121/121 - 16s - 136ms/step - accuracy: 0.8505 - loss: 0.4076 - val_accuracy: 0.9349 - val_loss: 0.1955\n",
      "Epoch 8/20\n",
      "121/121 - 17s - 138ms/step - accuracy: 0.8682 - loss: 0.3735 - val_accuracy: 0.9442 - val_loss: 0.1237\n",
      "8/8 - 1s - 77ms/step\n",
      "Test Accuracy for fold 10: 0.7436974789915967\n",
      "Test Precision for fold 10: 0.6972209338280767\n",
      "Test Recall for fold 10: 0.7436974789915967\n",
      "Test F1 Score for fold 10: 0.7085037567400836\n",
      "Fold accuracies:  [0.7352941176470589, 0.7605042016806722, 0.7647058823529411, 0.7226890756302521, 0.7310924369747899, 0.7352941176470589, 0.7310924369747899, 0.7436974789915967, 0.7310924369747899, 0.7436974789915967]\n",
      "Fold precisions:  [0.7111998879248094, 0.7294455572926846, 0.7682123873414948, 0.6840558763454918, 0.668736209567626, 0.6820352264327892, 0.671028804320419, 0.6903341981954072, 0.6921008403361346, 0.6972209338280767]\n",
      "Fold recalls:  [0.7352941176470589, 0.7605042016806722, 0.7647058823529411, 0.7226890756302521, 0.7310924369747899, 0.7352941176470589, 0.7310924369747899, 0.7436974789915967, 0.7310924369747899, 0.7436974789915967]\n",
      "Fold f1 scores:  [0.7224118417479388, 0.7377460980700161, 0.7604837056773929, 0.7007234472736463, 0.6822383426797688, 0.702905188771838, 0.6953276279420756, 0.7115530890246787, 0.7000608095988577, 0.7085037567400836]\n"
     ]
    },
    {
     "name": "stderr",
     "output_type": "stream",
     "text": [
      "/Users/adarshchoudhary/Documents/University of Paderborn/Data Science of Software Engineering/Assignments/Assignment 3/code/.env/lib/python3.11/site-packages/sklearn/metrics/_classification.py:1469: UndefinedMetricWarning: Precision is ill-defined and being set to 0.0 in labels with no predicted samples. Use `zero_division` parameter to control this behavior.\n",
      "  _warn_prf(average, modifier, msg_start, len(result))\n"
     ]
    }
   ],
   "execution_count": 8
  },
  {
   "metadata": {
    "ExecuteTime": {
     "end_time": "2024-07-01T12:56:47.802608Z",
     "start_time": "2024-07-01T12:56:47.799269Z"
    }
   },
   "cell_type": "code",
   "source": [
    "# Calculate average metrics for current hyperparameters\n",
    "average_accuracy = np.mean(fold_accuracies)\n",
    "average_precision = np.mean(fold_precisions)\n",
    "average_recall = np.mean(fold_recalls)\n",
    "average_f1_score = np.mean(fold_f1_scores)\n",
    "\n",
    "print(f'Average Test Accuracy for config {embedding_dim}, {lstm_units}, {dropout_rate}, {batch_size}: {average_accuracy}')\n",
    "print(f'Average Test Precision for config {embedding_dim}, {lstm_units}, {dropout_rate}, {batch_size}: {average_precision}')\n",
    "print(f'Average Test Recall for config {embedding_dim}, {lstm_units}, {dropout_rate}, {batch_size}: {average_recall}')\n",
    "print(f'Average Test F1 Score for config {embedding_dim}, {lstm_units}, {dropout_rate}, {batch_size}: {average_f1_score}')"
   ],
   "id": "a36305d06317eb29",
   "outputs": [
    {
     "name": "stdout",
     "output_type": "stream",
     "text": [
      "Average Test Accuracy for config 200, 100, 0.2, 16: 0.7399159663865547\n",
      "Average Test Precision for config 200, 100, 0.2, 16: 0.6994369921584933\n",
      "Average Test Recall for config 200, 100, 0.2, 16: 0.7399159663865547\n",
      "Average Test F1 Score for config 200, 100, 0.2, 16: 0.7121953907526296\n"
     ]
    }
   ],
   "execution_count": 9
  },
  {
   "metadata": {
    "ExecuteTime": {
     "end_time": "2024-07-01T12:56:47.965262Z",
     "start_time": "2024-07-01T12:56:47.804553Z"
    }
   },
   "cell_type": "code",
   "source": [
    "# Plot the training history of the best model (for demonstration, assuming the last trained model is the best)\n",
    "plt.figure(figsize=(10, 6))\n",
    "plt.plot(history.history['loss'], label='Training Loss')\n",
    "plt.plot(history.history['val_loss'], label='Validation Loss')\n",
    "plt.title('Training and Validation Loss')\n",
    "plt.xlabel('Epoch')\n",
    "plt.ylabel('Loss')\n",
    "plt.legend()\n",
    "plt.grid(True)\n",
    "plt.show()\n",
    "\n",
    "plt.savefig(f\"{DEFAULT_DATA_FOLDER}/charts/Training_loss_vs_loss.png\")"
   ],
   "id": "570104ec689598fd",
   "outputs": [
    {
     "data": {
      "text/plain": [
       "<Figure size 1000x600 with 1 Axes>"
      ],
      "image/png": "[encoded data removed]"
     },
     "metadata": {},
     "output_type": "display_data"
    }
   ],
   "execution_count": 10
  },
  {
   "metadata": {
    "ExecuteTime": {
     "end_time": "2024-07-01T12:58:15.064279Z",
     "start_time": "2024-07-01T12:58:09.066981Z"
    }
   },
   "cell_type": "code",
   "source": [
    "import os\n",
    "# Ensure the model directory exists\n",
    "model_dir = os.path.join(DEFAULT_DATA_FOLDER, \"models\")\n",
    "if not os.path.exists(model_dir):\n",
    "    os.makedirs(model_dir)\n",
    "    \n",
    "model.save(f\"{DEFAULT_DATA_FOLDER}/models/lstm.keras\")"
   ],
   "id": "e0849e47d4dcc5d0",
   "outputs": [],
   "execution_count": 11
  },
  {
   "metadata": {},
   "cell_type": "markdown",
   "source": "### Create confusion matrix",
   "id": "4af485b96e9549d0"
  },
  {
   "metadata": {
    "ExecuteTime": {
     "end_time": "2024-07-01T13:09:57.779584Z",
     "start_time": "2024-07-01T13:09:56.209179Z"
    }
   },
   "cell_type": "code",
   "source": [
    "import pandas as pd\n",
    "import matplotlib.pyplot as plt\n",
    "import seaborn as sns\n",
    "from sklearn.metrics import confusion_matrix\n",
    "\n",
    "# Initialize an empty list to store fold dataframes\n",
    "folds_data = []\n",
    "\n",
    "# Loop through each fold and read the corresponding Excel file\n",
    "for fold in range(2, 12):\n",
    "    fold_df = pd.read_excel(f\"{DEFAULT_DATA_FOLDER}/validation_results/fold{fold}.xlsx\")\n",
    "    folds_data.append(fold_df)\n",
    "\n",
    "# Concatenate all fold dataframes\n",
    "combined_folds = pd.concat(folds_data)\n",
    "\n",
    "# Extract true and predicted labels\n",
    "y_true = combined_folds['true']\n",
    "y_pred = combined_folds['predicted']\n",
    "\n",
    "# Compute the global confusion matrix\n",
    "global_conf_matrix = confusion_matrix(y_true, y_pred)\n",
    "global_conf_matrix_df = pd.DataFrame(global_conf_matrix, index=label_encoder.classes_, columns=label_encoder.classes_)\n",
    "\n",
    "# Plot the global confusion matrix\n",
    "plt.figure(figsize=(10, 8))\n",
    "sns.heatmap(global_conf_matrix_df, annot=True, fmt='d', cmap='Blues', cbar=False, \n",
    "            xticklabels=label_encoder.classes_, yticklabels=label_encoder.classes_)\n",
    "plt.xlabel('Predicted')\n",
    "plt.ylabel('True')\n",
    "plt.title('Global Confusion Matrix')\n",
    "plt.savefig(f\"{DEFAULT_DATA_FOLDER}/charts/global_confusion_matrix.png\")\n",
    "plt.close()\n",
    "\n",
    "# Save the global confusion matrix as an Excel file\n",
    "global_conf_matrix_df.to_excel(f\"{DEFAULT_DATA_FOLDER}/validation_results/global_confusion_matrix.xlsx\")"
   ],
   "id": "70a4123f8e183c82",
   "outputs": [
    {
     "ename": "FileNotFoundError",
     "evalue": "[Errno 2] No such file or directory: '/Users/adarshchoudhary/Documents/University of Paderborn/Data Science of Software Engineering/Assignments/Assignment 3/code/data/charts/global_confusion_matrix.png'",
     "output_type": "error",
     "traceback": [
      "\u001B[0;31m---------------------------------------------------------------------------\u001B[0m",
      "\u001B[0;31mFileNotFoundError\u001B[0m                         Traceback (most recent call last)",
      "Cell \u001B[0;32mIn[14], line 32\u001B[0m\n\u001B[1;32m     30\u001B[0m plt\u001B[38;5;241m.\u001B[39mylabel(\u001B[38;5;124m'\u001B[39m\u001B[38;5;124mTrue\u001B[39m\u001B[38;5;124m'\u001B[39m)\n\u001B[1;32m     31\u001B[0m plt\u001B[38;5;241m.\u001B[39mtitle(\u001B[38;5;124m'\u001B[39m\u001B[38;5;124mGlobal Confusion Matrix\u001B[39m\u001B[38;5;124m'\u001B[39m)\n\u001B[0;32m---> 32\u001B[0m \u001B[43mplt\u001B[49m\u001B[38;5;241;43m.\u001B[39;49m\u001B[43msavefig\u001B[49m\u001B[43m(\u001B[49m\u001B[38;5;124;43mf\u001B[39;49m\u001B[38;5;124;43m\"\u001B[39;49m\u001B[38;5;132;43;01m{\u001B[39;49;00m\u001B[43mDEFAULT_DATA_FOLDER\u001B[49m\u001B[38;5;132;43;01m}\u001B[39;49;00m\u001B[38;5;124;43m/charts/global_confusion_matrix.png\u001B[39;49m\u001B[38;5;124;43m\"\u001B[39;49m\u001B[43m)\u001B[49m\n\u001B[1;32m     33\u001B[0m plt\u001B[38;5;241m.\u001B[39mclose()\n\u001B[1;32m     35\u001B[0m \u001B[38;5;66;03m# Save the global confusion matrix as an Excel file\u001B[39;00m\n",
      "File \u001B[0;32m~/Documents/University of Paderborn/Data Science of Software Engineering/Assignments/Assignment 3/code/.env/lib/python3.11/site-packages/matplotlib/pyplot.py:1223\u001B[0m, in \u001B[0;36msavefig\u001B[0;34m(*args, **kwargs)\u001B[0m\n\u001B[1;32m   1220\u001B[0m fig \u001B[38;5;241m=\u001B[39m gcf()\n\u001B[1;32m   1221\u001B[0m \u001B[38;5;66;03m# savefig default implementation has no return, so mypy is unhappy\u001B[39;00m\n\u001B[1;32m   1222\u001B[0m \u001B[38;5;66;03m# presumably this is here because subclasses can return?\u001B[39;00m\n\u001B[0;32m-> 1223\u001B[0m res \u001B[38;5;241m=\u001B[39m \u001B[43mfig\u001B[49m\u001B[38;5;241;43m.\u001B[39;49m\u001B[43msavefig\u001B[49m\u001B[43m(\u001B[49m\u001B[38;5;241;43m*\u001B[39;49m\u001B[43margs\u001B[49m\u001B[43m,\u001B[49m\u001B[43m \u001B[49m\u001B[38;5;241;43m*\u001B[39;49m\u001B[38;5;241;43m*\u001B[39;49m\u001B[43mkwargs\u001B[49m\u001B[43m)\u001B[49m  \u001B[38;5;66;03m# type: ignore[func-returns-value]\u001B[39;00m\n\u001B[1;32m   1224\u001B[0m fig\u001B[38;5;241m.\u001B[39mcanvas\u001B[38;5;241m.\u001B[39mdraw_idle()  \u001B[38;5;66;03m# Need this if 'transparent=True', to reset colors.\u001B[39;00m\n\u001B[1;32m   1225\u001B[0m \u001B[38;5;28;01mreturn\u001B[39;00m res\n",
      "File \u001B[0;32m~/Documents/University of Paderborn/Data Science of Software Engineering/Assignments/Assignment 3/code/.env/lib/python3.11/site-packages/matplotlib/figure.py:3388\u001B[0m, in \u001B[0;36mFigure.savefig\u001B[0;34m(self, fname, transparent, **kwargs)\u001B[0m\n\u001B[1;32m   3386\u001B[0m     \u001B[38;5;28;01mfor\u001B[39;00m ax \u001B[38;5;129;01min\u001B[39;00m \u001B[38;5;28mself\u001B[39m\u001B[38;5;241m.\u001B[39maxes:\n\u001B[1;32m   3387\u001B[0m         _recursively_make_axes_transparent(stack, ax)\n\u001B[0;32m-> 3388\u001B[0m \u001B[38;5;28;43mself\u001B[39;49m\u001B[38;5;241;43m.\u001B[39;49m\u001B[43mcanvas\u001B[49m\u001B[38;5;241;43m.\u001B[39;49m\u001B[43mprint_figure\u001B[49m\u001B[43m(\u001B[49m\u001B[43mfname\u001B[49m\u001B[43m,\u001B[49m\u001B[43m \u001B[49m\u001B[38;5;241;43m*\u001B[39;49m\u001B[38;5;241;43m*\u001B[39;49m\u001B[43mkwargs\u001B[49m\u001B[43m)\u001B[49m\n",
      "File \u001B[0;32m~/Documents/University of Paderborn/Data Science of Software Engineering/Assignments/Assignment 3/code/.env/lib/python3.11/site-packages/matplotlib/backend_bases.py:2218\u001B[0m, in \u001B[0;36mFigureCanvasBase.print_figure\u001B[0;34m(self, filename, dpi, facecolor, edgecolor, orientation, format, bbox_inches, pad_inches, bbox_extra_artists, backend, **kwargs)\u001B[0m\n\u001B[1;32m   2214\u001B[0m \u001B[38;5;28;01mtry\u001B[39;00m:\n\u001B[1;32m   2215\u001B[0m     \u001B[38;5;66;03m# _get_renderer may change the figure dpi (as vector formats\u001B[39;00m\n\u001B[1;32m   2216\u001B[0m     \u001B[38;5;66;03m# force the figure dpi to 72), so we need to set it again here.\u001B[39;00m\n\u001B[1;32m   2217\u001B[0m     \u001B[38;5;28;01mwith\u001B[39;00m cbook\u001B[38;5;241m.\u001B[39m_setattr_cm(\u001B[38;5;28mself\u001B[39m\u001B[38;5;241m.\u001B[39mfigure, dpi\u001B[38;5;241m=\u001B[39mdpi):\n\u001B[0;32m-> 2218\u001B[0m         result \u001B[38;5;241m=\u001B[39m \u001B[43mprint_method\u001B[49m\u001B[43m(\u001B[49m\n\u001B[1;32m   2219\u001B[0m \u001B[43m            \u001B[49m\u001B[43mfilename\u001B[49m\u001B[43m,\u001B[49m\n\u001B[1;32m   2220\u001B[0m \u001B[43m            \u001B[49m\u001B[43mfacecolor\u001B[49m\u001B[38;5;241;43m=\u001B[39;49m\u001B[43mfacecolor\u001B[49m\u001B[43m,\u001B[49m\n\u001B[1;32m   2221\u001B[0m \u001B[43m            \u001B[49m\u001B[43medgecolor\u001B[49m\u001B[38;5;241;43m=\u001B[39;49m\u001B[43medgecolor\u001B[49m\u001B[43m,\u001B[49m\n\u001B[1;32m   2222\u001B[0m \u001B[43m            \u001B[49m\u001B[43morientation\u001B[49m\u001B[38;5;241;43m=\u001B[39;49m\u001B[43morientation\u001B[49m\u001B[43m,\u001B[49m\n\u001B[1;32m   2223\u001B[0m \u001B[43m            \u001B[49m\u001B[43mbbox_inches_restore\u001B[49m\u001B[38;5;241;43m=\u001B[39;49m\u001B[43m_bbox_inches_restore\u001B[49m\u001B[43m,\u001B[49m\n\u001B[1;32m   2224\u001B[0m \u001B[43m            \u001B[49m\u001B[38;5;241;43m*\u001B[39;49m\u001B[38;5;241;43m*\u001B[39;49m\u001B[43mkwargs\u001B[49m\u001B[43m)\u001B[49m\n\u001B[1;32m   2225\u001B[0m \u001B[38;5;28;01mfinally\u001B[39;00m:\n\u001B[1;32m   2226\u001B[0m     \u001B[38;5;28;01mif\u001B[39;00m bbox_inches \u001B[38;5;129;01mand\u001B[39;00m restore_bbox:\n",
      "File \u001B[0;32m~/Documents/University of Paderborn/Data Science of Software Engineering/Assignments/Assignment 3/code/.env/lib/python3.11/site-packages/matplotlib/backend_bases.py:2068\u001B[0m, in \u001B[0;36mFigureCanvasBase._switch_canvas_and_return_print_method.<locals>.<lambda>\u001B[0;34m(*args, **kwargs)\u001B[0m\n\u001B[1;32m   2064\u001B[0m     optional_kws \u001B[38;5;241m=\u001B[39m {  \u001B[38;5;66;03m# Passed by print_figure for other renderers.\u001B[39;00m\n\u001B[1;32m   2065\u001B[0m         \u001B[38;5;124m\"\u001B[39m\u001B[38;5;124mdpi\u001B[39m\u001B[38;5;124m\"\u001B[39m, \u001B[38;5;124m\"\u001B[39m\u001B[38;5;124mfacecolor\u001B[39m\u001B[38;5;124m\"\u001B[39m, \u001B[38;5;124m\"\u001B[39m\u001B[38;5;124medgecolor\u001B[39m\u001B[38;5;124m\"\u001B[39m, \u001B[38;5;124m\"\u001B[39m\u001B[38;5;124morientation\u001B[39m\u001B[38;5;124m\"\u001B[39m,\n\u001B[1;32m   2066\u001B[0m         \u001B[38;5;124m\"\u001B[39m\u001B[38;5;124mbbox_inches_restore\u001B[39m\u001B[38;5;124m\"\u001B[39m}\n\u001B[1;32m   2067\u001B[0m     skip \u001B[38;5;241m=\u001B[39m optional_kws \u001B[38;5;241m-\u001B[39m {\u001B[38;5;241m*\u001B[39minspect\u001B[38;5;241m.\u001B[39msignature(meth)\u001B[38;5;241m.\u001B[39mparameters}\n\u001B[0;32m-> 2068\u001B[0m     print_method \u001B[38;5;241m=\u001B[39m functools\u001B[38;5;241m.\u001B[39mwraps(meth)(\u001B[38;5;28;01mlambda\u001B[39;00m \u001B[38;5;241m*\u001B[39margs, \u001B[38;5;241m*\u001B[39m\u001B[38;5;241m*\u001B[39mkwargs: \u001B[43mmeth\u001B[49m\u001B[43m(\u001B[49m\n\u001B[1;32m   2069\u001B[0m \u001B[43m        \u001B[49m\u001B[38;5;241;43m*\u001B[39;49m\u001B[43margs\u001B[49m\u001B[43m,\u001B[49m\u001B[43m \u001B[49m\u001B[38;5;241;43m*\u001B[39;49m\u001B[38;5;241;43m*\u001B[39;49m\u001B[43m{\u001B[49m\u001B[43mk\u001B[49m\u001B[43m:\u001B[49m\u001B[43m \u001B[49m\u001B[43mv\u001B[49m\u001B[43m \u001B[49m\u001B[38;5;28;43;01mfor\u001B[39;49;00m\u001B[43m \u001B[49m\u001B[43mk\u001B[49m\u001B[43m,\u001B[49m\u001B[43m \u001B[49m\u001B[43mv\u001B[49m\u001B[43m \u001B[49m\u001B[38;5;129;43;01min\u001B[39;49;00m\u001B[43m \u001B[49m\u001B[43mkwargs\u001B[49m\u001B[38;5;241;43m.\u001B[39;49m\u001B[43mitems\u001B[49m\u001B[43m(\u001B[49m\u001B[43m)\u001B[49m\u001B[43m \u001B[49m\u001B[38;5;28;43;01mif\u001B[39;49;00m\u001B[43m \u001B[49m\u001B[43mk\u001B[49m\u001B[43m \u001B[49m\u001B[38;5;129;43;01mnot\u001B[39;49;00m\u001B[43m \u001B[49m\u001B[38;5;129;43;01min\u001B[39;49;00m\u001B[43m \u001B[49m\u001B[43mskip\u001B[49m\u001B[43m}\u001B[49m\u001B[43m)\u001B[49m)\n\u001B[1;32m   2070\u001B[0m \u001B[38;5;28;01melse\u001B[39;00m:  \u001B[38;5;66;03m# Let third-parties do as they see fit.\u001B[39;00m\n\u001B[1;32m   2071\u001B[0m     print_method \u001B[38;5;241m=\u001B[39m meth\n",
      "File \u001B[0;32m~/Documents/University of Paderborn/Data Science of Software Engineering/Assignments/Assignment 3/code/.env/lib/python3.11/site-packages/matplotlib/backends/backend_agg.py:496\u001B[0m, in \u001B[0;36mFigureCanvasAgg.print_png\u001B[0;34m(self, filename_or_obj, metadata, pil_kwargs)\u001B[0m\n\u001B[1;32m    449\u001B[0m \u001B[38;5;28;01mdef\u001B[39;00m \u001B[38;5;21mprint_png\u001B[39m(\u001B[38;5;28mself\u001B[39m, filename_or_obj, \u001B[38;5;241m*\u001B[39m, metadata\u001B[38;5;241m=\u001B[39m\u001B[38;5;28;01mNone\u001B[39;00m, pil_kwargs\u001B[38;5;241m=\u001B[39m\u001B[38;5;28;01mNone\u001B[39;00m):\n\u001B[1;32m    450\u001B[0m \u001B[38;5;250m    \u001B[39m\u001B[38;5;124;03m\"\"\"\u001B[39;00m\n\u001B[1;32m    451\u001B[0m \u001B[38;5;124;03m    Write the figure to a PNG file.\u001B[39;00m\n\u001B[1;32m    452\u001B[0m \n\u001B[0;32m   (...)\u001B[0m\n\u001B[1;32m    494\u001B[0m \u001B[38;5;124;03m        *metadata*, including the default 'Software' key.\u001B[39;00m\n\u001B[1;32m    495\u001B[0m \u001B[38;5;124;03m    \"\"\"\u001B[39;00m\n\u001B[0;32m--> 496\u001B[0m     \u001B[38;5;28;43mself\u001B[39;49m\u001B[38;5;241;43m.\u001B[39;49m\u001B[43m_print_pil\u001B[49m\u001B[43m(\u001B[49m\u001B[43mfilename_or_obj\u001B[49m\u001B[43m,\u001B[49m\u001B[43m \u001B[49m\u001B[38;5;124;43m\"\u001B[39;49m\u001B[38;5;124;43mpng\u001B[39;49m\u001B[38;5;124;43m\"\u001B[39;49m\u001B[43m,\u001B[49m\u001B[43m \u001B[49m\u001B[43mpil_kwargs\u001B[49m\u001B[43m,\u001B[49m\u001B[43m \u001B[49m\u001B[43mmetadata\u001B[49m\u001B[43m)\u001B[49m\n",
      "File \u001B[0;32m~/Documents/University of Paderborn/Data Science of Software Engineering/Assignments/Assignment 3/code/.env/lib/python3.11/site-packages/matplotlib/backends/backend_agg.py:445\u001B[0m, in \u001B[0;36mFigureCanvasAgg._print_pil\u001B[0;34m(self, filename_or_obj, fmt, pil_kwargs, metadata)\u001B[0m\n\u001B[1;32m    440\u001B[0m \u001B[38;5;250m\u001B[39m\u001B[38;5;124;03m\"\"\"\u001B[39;00m\n\u001B[1;32m    441\u001B[0m \u001B[38;5;124;03mDraw the canvas, then save it using `.image.imsave` (to which\u001B[39;00m\n\u001B[1;32m    442\u001B[0m \u001B[38;5;124;03m*pil_kwargs* and *metadata* are forwarded).\u001B[39;00m\n\u001B[1;32m    443\u001B[0m \u001B[38;5;124;03m\"\"\"\u001B[39;00m\n\u001B[1;32m    444\u001B[0m FigureCanvasAgg\u001B[38;5;241m.\u001B[39mdraw(\u001B[38;5;28mself\u001B[39m)\n\u001B[0;32m--> 445\u001B[0m \u001B[43mmpl\u001B[49m\u001B[38;5;241;43m.\u001B[39;49m\u001B[43mimage\u001B[49m\u001B[38;5;241;43m.\u001B[39;49m\u001B[43mimsave\u001B[49m\u001B[43m(\u001B[49m\n\u001B[1;32m    446\u001B[0m \u001B[43m    \u001B[49m\u001B[43mfilename_or_obj\u001B[49m\u001B[43m,\u001B[49m\u001B[43m \u001B[49m\u001B[38;5;28;43mself\u001B[39;49m\u001B[38;5;241;43m.\u001B[39;49m\u001B[43mbuffer_rgba\u001B[49m\u001B[43m(\u001B[49m\u001B[43m)\u001B[49m\u001B[43m,\u001B[49m\u001B[43m \u001B[49m\u001B[38;5;28;43mformat\u001B[39;49m\u001B[38;5;241;43m=\u001B[39;49m\u001B[43mfmt\u001B[49m\u001B[43m,\u001B[49m\u001B[43m \u001B[49m\u001B[43morigin\u001B[49m\u001B[38;5;241;43m=\u001B[39;49m\u001B[38;5;124;43m\"\u001B[39;49m\u001B[38;5;124;43mupper\u001B[39;49m\u001B[38;5;124;43m\"\u001B[39;49m\u001B[43m,\u001B[49m\n\u001B[1;32m    447\u001B[0m \u001B[43m    \u001B[49m\u001B[43mdpi\u001B[49m\u001B[38;5;241;43m=\u001B[39;49m\u001B[38;5;28;43mself\u001B[39;49m\u001B[38;5;241;43m.\u001B[39;49m\u001B[43mfigure\u001B[49m\u001B[38;5;241;43m.\u001B[39;49m\u001B[43mdpi\u001B[49m\u001B[43m,\u001B[49m\u001B[43m \u001B[49m\u001B[43mmetadata\u001B[49m\u001B[38;5;241;43m=\u001B[39;49m\u001B[43mmetadata\u001B[49m\u001B[43m,\u001B[49m\u001B[43m \u001B[49m\u001B[43mpil_kwargs\u001B[49m\u001B[38;5;241;43m=\u001B[39;49m\u001B[43mpil_kwargs\u001B[49m\u001B[43m)\u001B[49m\n",
      "File \u001B[0;32m~/Documents/University of Paderborn/Data Science of Software Engineering/Assignments/Assignment 3/code/.env/lib/python3.11/site-packages/matplotlib/image.py:1676\u001B[0m, in \u001B[0;36mimsave\u001B[0;34m(fname, arr, vmin, vmax, cmap, format, origin, dpi, metadata, pil_kwargs)\u001B[0m\n\u001B[1;32m   1674\u001B[0m pil_kwargs\u001B[38;5;241m.\u001B[39msetdefault(\u001B[38;5;124m\"\u001B[39m\u001B[38;5;124mformat\u001B[39m\u001B[38;5;124m\"\u001B[39m, \u001B[38;5;28mformat\u001B[39m)\n\u001B[1;32m   1675\u001B[0m pil_kwargs\u001B[38;5;241m.\u001B[39msetdefault(\u001B[38;5;124m\"\u001B[39m\u001B[38;5;124mdpi\u001B[39m\u001B[38;5;124m\"\u001B[39m, (dpi, dpi))\n\u001B[0;32m-> 1676\u001B[0m \u001B[43mimage\u001B[49m\u001B[38;5;241;43m.\u001B[39;49m\u001B[43msave\u001B[49m\u001B[43m(\u001B[49m\u001B[43mfname\u001B[49m\u001B[43m,\u001B[49m\u001B[43m \u001B[49m\u001B[38;5;241;43m*\u001B[39;49m\u001B[38;5;241;43m*\u001B[39;49m\u001B[43mpil_kwargs\u001B[49m\u001B[43m)\u001B[49m\n",
      "File \u001B[0;32m~/Documents/University of Paderborn/Data Science of Software Engineering/Assignments/Assignment 3/code/.env/lib/python3.11/site-packages/PIL/Image.py:2456\u001B[0m, in \u001B[0;36mImage.save\u001B[0;34m(self, fp, format, **params)\u001B[0m\n\u001B[1;32m   2454\u001B[0m         fp \u001B[38;5;241m=\u001B[39m builtins\u001B[38;5;241m.\u001B[39mopen(filename, \u001B[38;5;124m\"\u001B[39m\u001B[38;5;124mr+b\u001B[39m\u001B[38;5;124m\"\u001B[39m)\n\u001B[1;32m   2455\u001B[0m     \u001B[38;5;28;01melse\u001B[39;00m:\n\u001B[0;32m-> 2456\u001B[0m         fp \u001B[38;5;241m=\u001B[39m \u001B[43mbuiltins\u001B[49m\u001B[38;5;241;43m.\u001B[39;49m\u001B[43mopen\u001B[49m\u001B[43m(\u001B[49m\u001B[43mfilename\u001B[49m\u001B[43m,\u001B[49m\u001B[43m \u001B[49m\u001B[38;5;124;43m\"\u001B[39;49m\u001B[38;5;124;43mw+b\u001B[39;49m\u001B[38;5;124;43m\"\u001B[39;49m\u001B[43m)\u001B[49m\n\u001B[1;32m   2458\u001B[0m \u001B[38;5;28;01mtry\u001B[39;00m:\n\u001B[1;32m   2459\u001B[0m     save_handler(\u001B[38;5;28mself\u001B[39m, fp, filename)\n",
      "\u001B[0;31mFileNotFoundError\u001B[0m: [Errno 2] No such file or directory: '/Users/adarshchoudhary/Documents/University of Paderborn/Data Science of Software Engineering/Assignments/Assignment 3/code/data/charts/global_confusion_matrix.png'"
     ]
    },
    {
     "data": {
      "text/plain": [
       "<Figure size 1000x800 with 1 Axes>"
      ],
      "image/png": "[encoded data removed]"
     },
     "metadata": {},
     "output_type": "display_data"
    }
   ],
   "execution_count": 14
  },
  {
   "metadata": {
    "ExecuteTime": {
     "end_time": "2024-07-01T13:26:58.526947Z",
     "start_time": "2024-07-01T13:26:58.512347Z"
    }
   },
   "cell_type": "code",
   "source": [
    "import pickle\n",
    "\n",
    "# Path to save the tokenizer\n",
    "TOKENIZER_PATH = os.path.join(DEFAULT_DATA_FOLDER, 'tokenizer.pickle')\n",
    "\n",
    "# Save the tokenizer\n",
    "with open(TOKENIZER_PATH, 'wb') as handle:\n",
    "    pickle.dump(tokenizer, handle, protocol=pickle.HIGHEST_PROTOCOL)\n"
   ],
   "id": "e32575098976425f",
   "outputs": [],
   "execution_count": 15
  },
  {
   "metadata": {
    "ExecuteTime": {
     "end_time": "2024-07-01T13:29:24.402128Z",
     "start_time": "2024-07-01T13:29:24.399157Z"
    }
   },
   "cell_type": "code",
   "source": [
    "classes_path = os.path.join(DEFAULT_DATA_FOLDER, 'classes.npy')\n",
    "np.save(classes_path, label_encoder.classes_)"
   ],
   "id": "fd4086887c92173",
   "outputs": [],
   "execution_count": 16
  },
  {
   "metadata": {},
   "cell_type": "code",
   "outputs": [],
   "execution_count": null,
   "source": "",
   "id": "bc1983d2316ce013"
  }
 ],
 "metadata": {
  "kernelspec": {
   "display_name": "Python 3",
   "language": "python",
   "name": "python3"
  },
  "language_info": {
   "codemirror_mode": {
    "name": "ipython",
    "version": 2
   },
   "file_extension": ".py",
   "mimetype": "text/x-python",
   "name": "python",
   "nbconvert_exporter": "python",
   "pygments_lexer": "ipython2",
   "version": "2.7.6"
  }
 },
 "nbformat": 4,
 "nbformat_minor": 5
}
